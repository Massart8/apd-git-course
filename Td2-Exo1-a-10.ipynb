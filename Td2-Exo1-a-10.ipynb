{
 "cells": [
  {
   "cell_type": "markdown",
   "id": "0d49a6f5",
   "metadata": {},
   "source": [
    "# Exercice1\n"
   ]
  },
  {
   "cell_type": "code",
   "execution_count": 1,
   "id": "24a604c4",
   "metadata": {},
   "outputs": [
    {
     "name": "stdout",
     "output_type": "stream",
     "text": [
      "entrez la valeur de x: 5\n",
      "entrez la valeur de y: 4\n",
      "entrez la valeur de z: 7\n",
      "7\n"
     ]
    }
   ],
   "source": [
    "x=int(input(\"entrez la valeur de x: \"))\n",
    "y=int(input(\"entrez la valeur de y: \"))\n",
    "z=int(input(\"entrez la valeur de z: \"))\n",
    "if x>y and x>z:\n",
    "    max=x\n",
    "elif y>x and y>z:\n",
    "    max=y\n",
    "else:\n",
    "    max=z\n",
    "print(max)"
   ]
  },
  {
   "cell_type": "markdown",
   "id": "4c341f02",
   "metadata": {},
   "source": [
    "# Exercice2"
   ]
  },
  {
   "cell_type": "code",
   "execution_count": 4,
   "id": "0443d902",
   "metadata": {},
   "outputs": [
    {
     "name": "stdout",
     "output_type": "stream",
     "text": [
      "entrez une lettre alphabet: u\n",
      "vous avez entrer une voyelle\n"
     ]
    }
   ],
   "source": [
    "alp=input(\"entrez une lettre alphabet: \")\n",
    "if (alp==\"a\" or alp==\"e\" or alp==\"i\" or alp==\"u\" or alp==\"o\") or ((alp==\"A\" or alp==\"E\" or alp==\"I\" or alp==\"U\" or alp==\"O\")):\n",
    "    print(\"vous avez entrer une voyelle\")\n",
    "else:\n",
    "    print(\"vous avez entrer une consonne\")"
   ]
  },
  {
   "cell_type": "markdown",
   "id": "170a387b",
   "metadata": {},
   "source": [
    "# Exercice3"
   ]
  },
  {
   "cell_type": "code",
   "execution_count": 9,
   "id": "3b85928b",
   "metadata": {},
   "outputs": [
    {
     "name": "stdout",
     "output_type": "stream",
     "text": [
      "Entrez le numero(1-7) du jour de la semaine: 6\n",
      "entrez une val inf a 7\n",
      "Samedi\n"
     ]
    }
   ],
   "source": [
    "jour=int(input(\"Entrez le numero(1-7) du jour de la semaine: \"))\n",
    "i=1\n",
    "while i<7:\n",
    "    print(\"entrez une val inf a 7\")\n",
    "    break\n",
    "if jour==1:\n",
    "    print(\"Lundi\")\n",
    "elif jour==2:\n",
    "    print(\"Mardi\")\n",
    "elif jour==3:\n",
    "    print(\"Mercredi\")\n",
    "elif jour==4:\n",
    "    print(\"Jeudi\")\n",
    "elif jour==5:\n",
    "    print(\"Vendredi\")\n",
    "elif jour==6:\n",
    "    print(\"Samedi\")\n",
    "elif jour==7:\n",
    "    print(\"Diimanche\")\n"
   ]
  },
  {
   "cell_type": "markdown",
   "id": "2aca0f18",
   "metadata": {},
   "source": [
    "# Exercice4"
   ]
  },
  {
   "cell_type": "code",
   "execution_count": 10,
   "id": "0e8202f4",
   "metadata": {},
   "outputs": [
    {
     "name": "stdout",
     "output_type": "stream",
     "text": [
      "donnez le prix de fabrication: 45\n",
      "donnez le prix de vente: 780\n",
      "Profit\n"
     ]
    }
   ],
   "source": [
    "pf=int(input(\"donnez le prix de fabrication: \"))\n",
    "pv=int(input(\"donnez le prix de vente: \"))\n",
    "if pf>pv:\n",
    "    print(\"Perte\")\n",
    "else:\n",
    "    print(\"Profit\")\n"
   ]
  },
  {
   "cell_type": "markdown",
   "id": "c0c028e6",
   "metadata": {},
   "source": [
    "# Exercice5"
   ]
  },
  {
   "cell_type": "code",
   "execution_count": 12,
   "id": "6f3a994c",
   "metadata": {},
   "outputs": [
    {
     "name": "stdout",
     "output_type": "stream",
     "text": [
      "Entrez une année: 2012\n",
      "2012 est une année bissextille\n"
     ]
    }
   ],
   "source": [
    "an=int(input(\"Entrez une année: \"))\n",
    "if (an%4==0 or an%400==0) and (an%100!=0):\n",
    "    print(an,\"est une année bissextille\")\n",
    "else:\n",
    "    print(\"Année ordinaire\")"
   ]
  },
  {
   "cell_type": "markdown",
   "id": "6a983307",
   "metadata": {},
   "source": [
    "# Exercice6"
   ]
  },
  {
   "cell_type": "code",
   "execution_count": 13,
   "id": "71a9a3d3",
   "metadata": {},
   "outputs": [
    {
     "name": "stdout",
     "output_type": "stream",
     "text": [
      "saisissez le nbre de lignes: 5\n",
      "* \n",
      "* * \n",
      "* * * \n",
      "* * * * \n",
      "* * * * * \n"
     ]
    }
   ],
   "source": [
    "nl=int(input(\"saisissez le nbre de lignes: \"))\n",
    "for i in range(1,nl+1):\n",
    "    for j in range(i):\n",
    "        print(\"* \",end=\"\")\n",
    "    print(\"\")"
   ]
  },
  {
   "cell_type": "markdown",
   "id": "56c65b33",
   "metadata": {},
   "source": [
    "# Exercice7"
   ]
  },
  {
   "cell_type": "code",
   "execution_count": 14,
   "id": "cc799aaa",
   "metadata": {},
   "outputs": [
    {
     "name": "stdout",
     "output_type": "stream",
     "text": [
      "Entrer un mot: informatique\n",
      "il y'a  6  voyelle dans le mot:  informatique\n"
     ]
    }
   ],
   "source": [
    "mot=input(\"Entrer un mot: \")\n",
    "nv=0\n",
    "m=len(mot)\n",
    "for i in range(m):\n",
    "    if mot[i] in [\"a\",\"o\",\"i\",\"e\",\"u\"]:\n",
    "        nv=nv+1\n",
    "print(\"il y'a \",nv,\" voyelle dans le mot: \",mot)"
   ]
  },
  {
   "cell_type": "markdown",
   "id": "cbbe3702",
   "metadata": {},
   "source": [
    "# Exercice8"
   ]
  },
  {
   "cell_type": "code",
   "execution_count": 15,
   "id": "5017aa99",
   "metadata": {},
   "outputs": [
    {
     "name": "stdout",
     "output_type": "stream",
     "text": [
      "18\t17\t16\t\n",
      "15\t14\t13\t\n",
      "12\t11\t10\t\n",
      "9\t8\t7\t\n",
      "6\t5\t4\t\n",
      "3\t2\t1\t\n"
     ]
    }
   ],
   "source": [
    "t=1\n",
    "for i in range(18,0,-1):\n",
    "    print(i,end=\"\\t\")\n",
    "    if t%3==0:\n",
    "        print()\n",
    "    t=t+1\n",
    "        \n"
   ]
  },
  {
   "cell_type": "markdown",
   "id": "7366d60a",
   "metadata": {},
   "source": [
    "# Exercice9"
   ]
  },
  {
   "cell_type": "code",
   "execution_count": 17,
   "id": "80d0e6f6",
   "metadata": {},
   "outputs": [
    {
     "name": "stdout",
     "output_type": "stream",
     "text": [
      "entrez la note n° 1\n",
      "21\n",
      "entrez la note n° 1\n",
      "20\n",
      "entrez la note n° 2\n",
      "14\n",
      "entrez la note n° 3\n",
      "2\n",
      "entrez la note n° 4\n",
      "15\n",
      "entrez la note n° 5\n",
      "7\n",
      "entrez la note n° 6\n",
      "8\n",
      "entrez la note n° 7\n",
      "16\n",
      "entrez la note n° 8\n",
      "14\n",
      "entrez la note n° 9\n",
      "18\n",
      "entrez la note n° 10\n",
      "19\n",
      "la moyenne des notes est 13.3\n",
      "la note minimale est 2.0\n",
      "la note maximale est 20.0\n"
     ]
    }
   ],
   "source": [
    "nbn=10\n",
    "sn=0\n",
    "nmax=0\n",
    "nmin=20\n",
    "for i in range(1,nbn+1):\n",
    "    print(\"entrez la note n°\",i)\n",
    "    n=float(input())\n",
    "\n",
    "    while n>20 or n<0:\n",
    "        print(\"entrez la note n°\",i)\n",
    "        n=float(input())\n",
    "    sn=sn+n\n",
    "\n",
    "    if nmin>n: nmin=n\n",
    "    if nmax<n: nmax=n\n",
    "m=sn/nbn\n",
    "\n",
    "print(\"la moyenne des notes est\",m)\n",
    "print(\"la note minimale est\",nmin)\n",
    "print(\"la note maximale est\",nmax)\n",
    "        \n"
   ]
  },
  {
   "cell_type": "markdown",
   "id": "4101a887",
   "metadata": {},
   "source": [
    "# Exercice10"
   ]
  },
  {
   "cell_type": "code",
   "execution_count": 18,
   "id": "d3d36eab",
   "metadata": {},
   "outputs": [
    {
     "name": "stdout",
     "output_type": "stream",
     "text": [
      "il faut repondre par 'oui' ou 'non' \n",
      "Etes vous un apprenant : ok\n",
      "vous devez repondre par 'oui' ou bien 'non' \n",
      "Etes vous un apprenant : ko\n",
      "vous devez repondre par 'oui' ou bien 'non' \n",
      "Etes vous un apprenant : oui\n",
      "Au revoir \n"
     ]
    }
   ],
   "source": [
    "print(\"il faut repondre par 'oui' ou 'non' \")\n",
    "r= (input(\"Etes vous un apprenant : \"))\n",
    "while r !=\"oui\" or r!=\"non\":\n",
    "    print(\"vous devez repondre par 'oui' ou bien 'non' \")\n",
    "    r= (input(\"Etes vous un apprenant : \"))\n",
    "    if r==\"oui\" or r==\"non\":\n",
    "        break\n",
    "print(\"Au revoir \")\n"
   ]
  },
  {
   "cell_type": "code",
   "execution_count": null,
   "id": "d77601b0",
   "metadata": {},
   "outputs": [],
   "source": []
  }
 ],
 "metadata": {
  "kernelspec": {
   "display_name": "Python 3",
   "language": "python",
   "name": "python3"
  },
  "language_info": {
   "codemirror_mode": {
    "name": "ipython",
    "version": 3
   },
   "file_extension": ".py",
   "mimetype": "text/x-python",
   "name": "python",
   "nbconvert_exporter": "python",
   "pygments_lexer": "ipython3",
   "version": "3.8.8"
  }
 },
 "nbformat": 4,
 "nbformat_minor": 5
}
