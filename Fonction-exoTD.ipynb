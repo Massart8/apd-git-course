{
 "cells": [
  {
   "cell_type": "markdown",
   "id": "ed3b12b6",
   "metadata": {},
   "source": [
    "# Exercice1"
   ]
  },
  {
   "cell_type": "code",
   "execution_count": 4,
   "id": "7c6c98eb",
   "metadata": {},
   "outputs": [],
   "source": [
    "def nbmax():\n",
    "    x=int(input(\"entrez la valeur de x: \"))\n",
    "    y=int(input(\"entrez la valeur de y: \"))\n",
    "    z=int(input(\"entrez la valeur de z: \"))\n",
    "    if x>y and x>z:\n",
    "        max=x\n",
    "        return max\n",
    "    elif y>x and y>z:\n",
    "        max=y\n",
    "        return max\n",
    "    else:\n",
    "        max=z\n",
    "        return max"
   ]
  },
  {
   "cell_type": "code",
   "execution_count": 6,
   "id": "76d5b309",
   "metadata": {},
   "outputs": [
    {
     "name": "stdout",
     "output_type": "stream",
     "text": [
      "entrez la valeur de x: 5\n",
      "entrez la valeur de y: 8\n",
      "entrez la valeur de z: 6\n"
     ]
    },
    {
     "data": {
      "text/plain": [
       "8"
      ]
     },
     "execution_count": 6,
     "metadata": {},
     "output_type": "execute_result"
    }
   ],
   "source": [
    "nbmax()"
   ]
  },
  {
   "cell_type": "markdown",
   "id": "40dbc1e4",
   "metadata": {},
   "source": [
    "# Exercice2"
   ]
  },
  {
   "cell_type": "code",
   "execution_count": 7,
   "id": "534b6e8c",
   "metadata": {},
   "outputs": [],
   "source": [
    "def voyelle():\n",
    "    alp=input(\"entrez une lettre alphabet: \")\n",
    "    if (alp==\"a\" or alp==\"e\" or alp==\"i\" or alp==\"u\" or alp==\"o\") or ((alp==\"A\" or alp==\"E\" or alp==\"I\" or alp==\"U\" or alp==\"O\")):\n",
    "        return(\"vous avez entrer une voyelle\")\n",
    "    else:\n",
    "        return(\"vous avez entrer une consonne\")"
   ]
  },
  {
   "cell_type": "code",
   "execution_count": 8,
   "id": "a9a4b94d",
   "metadata": {},
   "outputs": [
    {
     "name": "stdout",
     "output_type": "stream",
     "text": [
      "entrez une lettre alphabet: o\n"
     ]
    },
    {
     "data": {
      "text/plain": [
       "'vous avez entrer une voyelle'"
      ]
     },
     "execution_count": 8,
     "metadata": {},
     "output_type": "execute_result"
    }
   ],
   "source": [
    "voyelle()"
   ]
  },
  {
   "cell_type": "markdown",
   "id": "9852e9bc",
   "metadata": {},
   "source": [
    "# Exercice3"
   ]
  },
  {
   "cell_type": "code",
   "execution_count": 10,
   "id": "46e188e5",
   "metadata": {},
   "outputs": [],
   "source": [
    "def jour():\n",
    "    jour=int(input(\"Entrez le numero(1-7) du jour de la semaine: \"))\n",
    "    i=1\n",
    "    while i<7:\n",
    "        print(\"entrez une val inf a 7\")\n",
    "        break\n",
    "    if jour==1:\n",
    "        return(\"Lundi\")\n",
    "    elif jour==2:\n",
    "        return(\"Mardi\")\n",
    "    elif jour==3:\n",
    "        return(\"Mercredi\")\n",
    "    elif jour==4:\n",
    "        return(\"Jeudi\")\n",
    "    elif jour==5:\n",
    "        return(\"Vendredi\")\n",
    "    elif jour==6:\n",
    "        return(\"Samedi\")\n",
    "    elif jour==7:\n",
    "        return(\"Diimanche\")\n"
   ]
  },
  {
   "cell_type": "code",
   "execution_count": 13,
   "id": "7b3e0590",
   "metadata": {},
   "outputs": [
    {
     "name": "stdout",
     "output_type": "stream",
     "text": [
      "Entrez le numero(1-7) du jour de la semaine: 2\n",
      "entrez une val inf a 7\n"
     ]
    },
    {
     "data": {
      "text/plain": [
       "'Mardi'"
      ]
     },
     "execution_count": 13,
     "metadata": {},
     "output_type": "execute_result"
    }
   ],
   "source": [
    "jour()"
   ]
  },
  {
   "cell_type": "markdown",
   "id": "7d40c084",
   "metadata": {},
   "source": [
    "# Exercice4"
   ]
  },
  {
   "cell_type": "code",
   "execution_count": 15,
   "id": "2b8e457a",
   "metadata": {},
   "outputs": [],
   "source": [
    "def fabrication():\n",
    "    pf=int(input(\"donnez le prix de fabrication: \"))\n",
    "    pv=int(input(\"donnez le prix de vente: \"))\n",
    "    if pf>pv:\n",
    "        return(\"Perte\")\n",
    "    else:\n",
    "        return(\"Profit\")\n"
   ]
  },
  {
   "cell_type": "code",
   "execution_count": 16,
   "id": "898ec338",
   "metadata": {
    "scrolled": true
   },
   "outputs": [
    {
     "name": "stdout",
     "output_type": "stream",
     "text": [
      "donnez le prix de fabrication: 154\n",
      "donnez le prix de vente: 25\n"
     ]
    },
    {
     "data": {
      "text/plain": [
       "'Perte'"
      ]
     },
     "execution_count": 16,
     "metadata": {},
     "output_type": "execute_result"
    }
   ],
   "source": [
    "fabrication()"
   ]
  },
  {
   "cell_type": "markdown",
   "id": "02fd225b",
   "metadata": {},
   "source": [
    "# Exercice5"
   ]
  },
  {
   "cell_type": "code",
   "execution_count": 20,
   "id": "ed220165",
   "metadata": {},
   "outputs": [],
   "source": [
    "def année():\n",
    "    an=int(input(\"Entrez une année: \"))\n",
    "    if (an%4==0 or an%400==0) and (an%100!=0):\n",
    "        return(an,\"est une année bissextille\")\n",
    "    else:\n",
    "        return(\"Année ordinaire\")"
   ]
  },
  {
   "cell_type": "code",
   "execution_count": 21,
   "id": "88466a7b",
   "metadata": {},
   "outputs": [
    {
     "name": "stdout",
     "output_type": "stream",
     "text": [
      "Entrez une année: 2012\n"
     ]
    },
    {
     "data": {
      "text/plain": [
       "(2012, 'est une année bissextille')"
      ]
     },
     "execution_count": 21,
     "metadata": {},
     "output_type": "execute_result"
    }
   ],
   "source": [
    "année()"
   ]
  },
  {
   "cell_type": "markdown",
   "id": "37f36456",
   "metadata": {},
   "source": [
    "# Exercice6"
   ]
  },
  {
   "cell_type": "code",
   "execution_count": 24,
   "id": "d4aa1d81",
   "metadata": {},
   "outputs": [],
   "source": [
    "def triangle():\n",
    "    nl=int(input(\"saisissez le nbre de lignes: \"))\n",
    "    for i in range(1,nl+1):\n",
    "        for j in range(i):\n",
    "            print(\"* \",end=\"\")\n",
    "        print(\"\")"
   ]
  },
  {
   "cell_type": "code",
   "execution_count": 25,
   "id": "77b1ea86",
   "metadata": {},
   "outputs": [
    {
     "name": "stdout",
     "output_type": "stream",
     "text": [
      "saisissez le nbre de lignes: 5\n",
      "* \n",
      "* * \n",
      "* * * \n",
      "* * * * \n",
      "* * * * * \n"
     ]
    }
   ],
   "source": [
    "triangle()"
   ]
  },
  {
   "cell_type": "markdown",
   "id": "3542fc69",
   "metadata": {},
   "source": [
    "# Exercice7"
   ]
  },
  {
   "cell_type": "code",
   "execution_count": 26,
   "id": "c345221a",
   "metadata": {},
   "outputs": [],
   "source": [
    "def nbvoyelle():\n",
    "    mot=input(\"Entrer un mot: \")\n",
    "    nv=0\n",
    "    m=len(mot)\n",
    "    for i in range(m):\n",
    "        if mot[i] in [\"a\",\"o\",\"i\",\"e\",\"u\"]:\n",
    "            nv=nv+1\n",
    "    return(\"il y'a \",nv,\" voyelle dans le mot: \",mot)"
   ]
  },
  {
   "cell_type": "code",
   "execution_count": 27,
   "id": "cf2bfe79",
   "metadata": {},
   "outputs": [
    {
     "name": "stdout",
     "output_type": "stream",
     "text": [
      "Entrer un mot: informatique\n"
     ]
    },
    {
     "data": {
      "text/plain": [
       "(\"il y'a \", 6, ' voyelle dans le mot: ', 'informatique')"
      ]
     },
     "execution_count": 27,
     "metadata": {},
     "output_type": "execute_result"
    }
   ],
   "source": [
    "nbvoyelle()"
   ]
  },
  {
   "cell_type": "markdown",
   "id": "b6386198",
   "metadata": {},
   "source": [
    "# Execice8"
   ]
  },
  {
   "cell_type": "code",
   "execution_count": 32,
   "id": "cff7b18b",
   "metadata": {},
   "outputs": [],
   "source": [
    "def affichagenb():\n",
    "    t=1\n",
    "    for i in range(18,0,-1):\n",
    "        print(i,end=\"\\t\")\n",
    "        if t%3==0:\n",
    "            print()\n",
    "        t=t+1\n",
    "        \n"
   ]
  },
  {
   "cell_type": "code",
   "execution_count": 33,
   "id": "c7ffa472",
   "metadata": {},
   "outputs": [
    {
     "name": "stdout",
     "output_type": "stream",
     "text": [
      "18\t17\t16\t\n",
      "15\t14\t13\t\n",
      "12\t11\t10\t\n",
      "9\t8\t7\t\n",
      "6\t5\t4\t\n",
      "3\t2\t1\t\n"
     ]
    }
   ],
   "source": [
    "affichagenb()"
   ]
  },
  {
   "cell_type": "markdown",
   "id": "b81d4c95",
   "metadata": {},
   "source": [
    "# Exercice9"
   ]
  },
  {
   "cell_type": "code",
   "execution_count": 37,
   "id": "e7d4a4da",
   "metadata": {},
   "outputs": [],
   "source": [
    "def note():\n",
    "    nbn=10\n",
    "    sn=0\n",
    "    nmax=0\n",
    "    nmin=20\n",
    "    for i in range(1,nbn+1):\n",
    "        print(\"entrez la note n°\",i)\n",
    "        n=float(input())\n",
    "\n",
    "        while n>20 or n<0:\n",
    "            print(\"entrez la note n°\",i)\n",
    "            n=float(input())\n",
    "        sn=sn+n\n",
    "\n",
    "        if nmin>n: nmin=n\n",
    "        if nmax<n: nmax=n\n",
    "    m=sn/nbn\n",
    "\n",
    "    print(\"la moyenne des notes est\",m)\n",
    "    print(\"la note minimale est\",nmin)\n",
    "    print(\"la note maximale est\",nmax)\n",
    "\n"
   ]
  },
  {
   "cell_type": "code",
   "execution_count": 38,
   "id": "ccf42ffd",
   "metadata": {},
   "outputs": [
    {
     "name": "stdout",
     "output_type": "stream",
     "text": [
      "entrez la note n° 1\n",
      "12\n",
      "entrez la note n° 2\n",
      "14\n",
      "entrez la note n° 3\n",
      "15\n",
      "entrez la note n° 4\n",
      "11\n",
      "entrez la note n° 5\n",
      "10\n",
      "entrez la note n° 6\n",
      "13\n",
      "entrez la note n° 7\n",
      "16\n",
      "entrez la note n° 8\n",
      "18\n",
      "entrez la note n° 9\n",
      "13\n",
      "entrez la note n° 10\n",
      "11\n",
      "la moyenne des notes est 13.3\n",
      "la note minimale est 10.0\n",
      "la note maximale est 18.0\n"
     ]
    }
   ],
   "source": [
    "note()"
   ]
  },
  {
   "cell_type": "markdown",
   "id": "3d996551",
   "metadata": {},
   "source": [
    "# Exercice10"
   ]
  },
  {
   "cell_type": "code",
   "execution_count": 28,
   "id": "8e299cf8",
   "metadata": {},
   "outputs": [],
   "source": [
    "def question():\n",
    "    print(\"il faut repondre par 'oui' ou 'non' \")\n",
    "    r= (input(\"Etes vous un apprenant : \"))\n",
    "    while r !=\"oui\" or r!=\"non\":\n",
    "        print(\"vous devez repondre par 'oui' ou bien 'non' \")\n",
    "        r= (input(\"Etes vous un apprenant : \"))\n",
    "        if r==\"oui\" or r==\"non\":\n",
    "            break\n",
    "    print(\"Au revoir \")\n"
   ]
  },
  {
   "cell_type": "code",
   "execution_count": 39,
   "id": "bd70c8c9",
   "metadata": {},
   "outputs": [
    {
     "name": "stdout",
     "output_type": "stream",
     "text": [
      "il faut repondre par 'oui' ou 'non' \n",
      "Etes vous un apprenant : ok\n",
      "vous devez repondre par 'oui' ou bien 'non' \n",
      "Etes vous un apprenant : oui\n",
      "Au revoir \n"
     ]
    }
   ],
   "source": [
    "question()"
   ]
  },
  {
   "cell_type": "markdown",
   "id": "2f11ddb2",
   "metadata": {},
   "source": [
    "# Exercice11"
   ]
  },
  {
   "cell_type": "code",
   "execution_count": 42,
   "id": "597a8fb2",
   "metadata": {},
   "outputs": [],
   "source": [
    "def jeu(): \n",
    "    import random\n",
    "    nm=random.randint(1,100)\n",
    "    for i in range(1,5):\n",
    "        print(\"Essai n°\",i)\n",
    "        n=int(input(\"veuillez deviner un nbre: \"))\n",
    "        while n!=nm and n<100:\n",
    "            if n>100:\n",
    "                print(\"vous devez entrer un nbre inf à 100\")\n",
    "            if n>nm:\n",
    "                print(\"Tres grand!Entrez un autre plus petit \")\n",
    "                break\n",
    "            else:\n",
    "                print(\"Tres petit!Entrez un autre plus grand\")\n",
    "                if i==5:\n",
    "                    print(\"Game over!!!le nbre cherché etait\",nm)\n",
    "                break\n",
    "        if  n==nm:\n",
    "                print(\"Vous avez trouvé le nbre Aleatoire\")"
   ]
  },
  {
   "cell_type": "code",
   "execution_count": 41,
   "id": "6791dd23",
   "metadata": {},
   "outputs": [
    {
     "name": "stdout",
     "output_type": "stream",
     "text": [
      "Essai n° 1\n",
      "veuillez deviner un nbre: 25\n",
      "Tres petit!Entrez un autre plus grand\n",
      "Essai n° 2\n",
      "veuillez deviner un nbre: 50\n",
      "Tres petit!Entrez un autre plus grand\n",
      "Essai n° 3\n",
      "veuillez deviner un nbre: 75\n",
      "Tres petit!Entrez un autre plus grand\n",
      "Essai n° 4\n",
      "veuillez deviner un nbre: 85\n",
      "Tres grand!Entrez un autre plus petit \n"
     ]
    }
   ],
   "source": [
    "jeu()"
   ]
  },
  {
   "cell_type": "markdown",
   "id": "661f56b7",
   "metadata": {},
   "source": [
    "# Exercice12"
   ]
  },
  {
   "cell_type": "code",
   "execution_count": 45,
   "id": "835f92ed",
   "metadata": {},
   "outputs": [],
   "source": [
    "def pgcd():\n",
    "    a=int(input(\"entrez un nbre: \"))\n",
    "    b=int(input(\"entrez un autre nbre: \"))\n",
    "    if a>b:\n",
    "        nmin=a\n",
    "    else:\n",
    "        nmin=b\n",
    "    for i in range(1,nmin+1):\n",
    "        if a%i==0 and b%i==0:\n",
    "            pgcd=i\n",
    "    print(\"le pgcd de\",a,\"et\",b,\"est\",pgcd)\n"
   ]
  },
  {
   "cell_type": "code",
   "execution_count": 46,
   "id": "0f2d8885",
   "metadata": {},
   "outputs": [
    {
     "name": "stdout",
     "output_type": "stream",
     "text": [
      "entrez un nbre: 25\n",
      "entrez un autre nbre: 15\n",
      "le pgcd de 25 et 15 est 5\n"
     ]
    }
   ],
   "source": [
    "pgcd()"
   ]
  },
  {
   "cell_type": "markdown",
   "id": "a5e75258",
   "metadata": {},
   "source": [
    "# Exercice13"
   ]
  },
  {
   "cell_type": "code",
   "execution_count": 50,
   "id": "f9e50502",
   "metadata": {},
   "outputs": [],
   "source": [
    "def rangement():\n",
    "    for i in range(1,6):\n",
    "        for i in range(10):\n",
    "            print(i,end=\" \")\n",
    "        print()"
   ]
  },
  {
   "cell_type": "code",
   "execution_count": 51,
   "id": "42ee2572",
   "metadata": {},
   "outputs": [
    {
     "name": "stdout",
     "output_type": "stream",
     "text": [
      "0 1 2 3 4 5 6 7 8 9 \n",
      "0 1 2 3 4 5 6 7 8 9 \n",
      "0 1 2 3 4 5 6 7 8 9 \n",
      "0 1 2 3 4 5 6 7 8 9 \n",
      "0 1 2 3 4 5 6 7 8 9 \n"
     ]
    }
   ],
   "source": [
    "rangement()"
   ]
  },
  {
   "cell_type": "markdown",
   "id": "11f5a00b",
   "metadata": {},
   "source": [
    "# Exercice14"
   ]
  },
  {
   "cell_type": "code",
   "execution_count": 55,
   "id": "190d2d47",
   "metadata": {},
   "outputs": [],
   "source": [
    "def somme4nbr():\n",
    "    n=int(input(\"entrez un entier(superieur à 4): \"))\n",
    "    s=0\n",
    "    for i in range(1,n+1):\n",
    "        s=s+i\n",
    "        if i==4:\n",
    "            break\n",
    "    return(\"la somme est:\",s)"
   ]
  },
  {
   "cell_type": "code",
   "execution_count": 56,
   "id": "5a590d88",
   "metadata": {},
   "outputs": [
    {
     "name": "stdout",
     "output_type": "stream",
     "text": [
      "entrez un entier(superieur à 4): 25\n"
     ]
    },
    {
     "data": {
      "text/plain": [
       "('la somme est:', 10)"
      ]
     },
     "execution_count": 56,
     "metadata": {},
     "output_type": "execute_result"
    }
   ],
   "source": [
    "somme4nbr()"
   ]
  },
  {
   "cell_type": "markdown",
   "id": "ae01c094",
   "metadata": {},
   "source": [
    "# Exercice15"
   ]
  },
  {
   "cell_type": "code",
   "execution_count": 57,
   "id": "d0eec99c",
   "metadata": {},
   "outputs": [],
   "source": [
    "def scarré():\n",
    "    sc=0\n",
    "    for i in range(1,10):\n",
    "        c=i**2\n",
    "        sc=sc+c\n",
    "    print(\"la somme des carrés est:\",sc)\n"
   ]
  },
  {
   "cell_type": "code",
   "execution_count": 58,
   "id": "1af999a9",
   "metadata": {},
   "outputs": [
    {
     "name": "stdout",
     "output_type": "stream",
     "text": [
      "la somme des carrés est: 285\n"
     ]
    }
   ],
   "source": [
    "scarré()"
   ]
  },
  {
   "cell_type": "markdown",
   "id": "87430687",
   "metadata": {},
   "source": [
    "# Exercice16"
   ]
  },
  {
   "cell_type": "code",
   "execution_count": 61,
   "id": "1691dc56",
   "metadata": {},
   "outputs": [],
   "source": [
    "def entierdiv7():\n",
    "    nd=0\n",
    "    for i in range(0,150):\n",
    "        if i % 7 ==0:\n",
    "            nd=nd+1\n",
    "    return(\"le nbre d'entier divisible par 7 entre 1 et 150 est: \",nd)"
   ]
  },
  {
   "cell_type": "code",
   "execution_count": 62,
   "id": "ec526167",
   "metadata": {},
   "outputs": [
    {
     "data": {
      "text/plain": [
       "(\"le nbre d'entier divisible par 7 entre 1 et 150 est: \", 22)"
      ]
     },
     "execution_count": 62,
     "metadata": {},
     "output_type": "execute_result"
    }
   ],
   "source": [
    "entierdiv7()"
   ]
  },
  {
   "cell_type": "markdown",
   "id": "7e169a37",
   "metadata": {},
   "source": [
    "# Exercice17"
   ]
  },
  {
   "cell_type": "code",
   "execution_count": 63,
   "id": "71626cd8",
   "metadata": {},
   "outputs": [],
   "source": [
    "def petitcarré():\n",
    "    i=1\n",
    "    while i*i<=1000:\n",
    "        i=i+1\n",
    "    return(i)\n"
   ]
  },
  {
   "cell_type": "code",
   "execution_count": 64,
   "id": "191edd1f",
   "metadata": {},
   "outputs": [
    {
     "data": {
      "text/plain": [
       "32"
      ]
     },
     "execution_count": 64,
     "metadata": {},
     "output_type": "execute_result"
    }
   ],
   "source": [
    "petitcarré()"
   ]
  },
  {
   "cell_type": "markdown",
   "id": "274f9e23",
   "metadata": {},
   "source": [
    "# Exercice18"
   ]
  },
  {
   "cell_type": "code",
   "execution_count": 65,
   "id": "daf5a60f",
   "metadata": {},
   "outputs": [],
   "source": [
    "def armstrong():\n",
    "    n=int(input(\"entrez un nbre: \"))\n",
    "    c=n//100\n",
    "    d=n%100//10\n",
    "    u=n%100%10\n",
    "    if (c**3)+(d**3)+(u**3)==n:\n",
    "        return(True)\n",
    "    else:\n",
    "        return(False)\n"
   ]
  },
  {
   "cell_type": "code",
   "execution_count": 67,
   "id": "c4600bef",
   "metadata": {},
   "outputs": [
    {
     "name": "stdout",
     "output_type": "stream",
     "text": [
      "entrez un nbre: 153\n"
     ]
    },
    {
     "data": {
      "text/plain": [
       "True"
      ]
     },
     "execution_count": 67,
     "metadata": {},
     "output_type": "execute_result"
    }
   ],
   "source": [
    "armstrong()"
   ]
  },
  {
   "cell_type": "markdown",
   "id": "b8fe6563",
   "metadata": {},
   "source": [
    "# Exercice19"
   ]
  },
  {
   "cell_type": "code",
   "execution_count": 78,
   "id": "198e9470",
   "metadata": {},
   "outputs": [],
   "source": [
    "def nbparfait():\n",
    "    n=int(input(\"entrez un entier n: \"))\n",
    "    for i in range (1,n):\n",
    "        div=0\n",
    "        for j in range (1,i):\n",
    "            if i%j==0:\n",
    "                div=div+j\n",
    "        if div==i:\n",
    "            return(\"nbre(s) parfait(s): \",i)\n"
   ]
  },
  {
   "cell_type": "code",
   "execution_count": 79,
   "id": "dc7f874a",
   "metadata": {},
   "outputs": [
    {
     "name": "stdout",
     "output_type": "stream",
     "text": [
      "entrez un entier n: 10\n"
     ]
    },
    {
     "data": {
      "text/plain": [
       "('nbre(s) parfait(s): ', 6)"
      ]
     },
     "execution_count": 79,
     "metadata": {},
     "output_type": "execute_result"
    }
   ],
   "source": [
    "nbparfait()"
   ]
  },
  {
   "cell_type": "markdown",
   "id": "b9aa5ddd",
   "metadata": {},
   "source": [
    "# Exercice20"
   ]
  },
  {
   "cell_type": "code",
   "execution_count": 80,
   "id": "66b0163c",
   "metadata": {},
   "outputs": [],
   "source": [
    "def ppcm():\n",
    "    a=int(input(\"entrez un nbre: \"))\n",
    "    b=int(input(\"entrez un autre nbre: \"))\n",
    "    if a>b:\n",
    "        pg=a\n",
    "    else:\n",
    "        pg=b\n",
    "    i=a*b\n",
    "    while i>=pg:\n",
    "        if i%a==0 and i%b==0:\n",
    "            ppcm=i\n",
    "        i=i-1\n",
    "    return(\"le ppcm de\",a,\"et\",b,\"est\",ppcm)\n"
   ]
  },
  {
   "cell_type": "code",
   "execution_count": 81,
   "id": "8e618e5e",
   "metadata": {},
   "outputs": [
    {
     "name": "stdout",
     "output_type": "stream",
     "text": [
      "entrez un nbre: 255\n",
      "entrez un autre nbre: 14\n"
     ]
    },
    {
     "data": {
      "text/plain": [
       "('le ppcm de', 255, 'et', 14, 'est', 3570)"
      ]
     },
     "execution_count": 81,
     "metadata": {},
     "output_type": "execute_result"
    }
   ],
   "source": [
    "ppcm()"
   ]
  }
 ],
 "metadata": {
  "kernelspec": {
   "display_name": "Python 3",
   "language": "python",
   "name": "python3"
  },
  "language_info": {
   "codemirror_mode": {
    "name": "ipython",
    "version": 3
   },
   "file_extension": ".py",
   "mimetype": "text/x-python",
   "name": "python",
   "nbconvert_exporter": "python",
   "pygments_lexer": "ipython3",
   "version": "3.8.8"
  }
 },
 "nbformat": 4,
 "nbformat_minor": 5
}
